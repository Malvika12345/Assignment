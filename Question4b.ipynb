{
 "cells": [
  {
   "cell_type": "code",
   "execution_count": null,
   "metadata": {
    "_cell_guid": "b1076dfc-b9ad-4769-8c92-a6c4dae69d19",
    "_uuid": "8f2839f25d086af736a60e9eeb907d3b93b6e0e5"
   },
   "outputs": [],
   "source": [
    "import numpy as np \n",
    "import pandas as pd \n",
    "import os\n",
    "import glob\n",
    "import pandas as pd\n",
    "import matplotlib.pyplot as plt\n",
    "import seaborn as sns"
   ]
  },
  {
   "cell_type": "markdown",
   "metadata": {
    "_uuid": "a111eb9fae738b42a92c465e3bf63d385db6a67b"
   },
   "source": [
    "Race Estimation"
   ]
  },
  {
   "cell_type": "code",
   "execution_count": 37,
   "metadata": {
    "_uuid": "867fd6bebbfda496ca070db1695fc38c6fa169d2"
   },
   "outputs": [
    {
     "data": {
      "text/plain": [
       "({0: 'male', 1: 'female'},\n",
       " {'male': 0, 'female': 1},\n",
       " {0: 'white', 1: 'black', 2: 'asian', 3: 'indian', 4: 'others'},\n",
       " {'white': 0, 'black': 1, 'asian': 2, 'indian': 3, 'others': 4})"
      ]
     },
     "execution_count": 37,
     "metadata": {},
     "output_type": "execute_result"
    }
   ],
   "source": [
    "DATA_DIR = \"C:/Users/N9519661/Desktop/UTKFace\"\n",
    "Train_Test_Split = 0.7\n",
    "IM_WIDTH = IM_HEIGHT = 198\n",
    "\n",
    "#Gender : O as Male and 1 as Female\n",
    "ID_GENDER_MAP = {0: 'male', 1: 'female'}\n",
    "GENDER_ID_MAP = dict((g, i) for i, g in ID_GENDER_MAP.items())\n",
    "\n",
    "# Classification of Gender\n",
    "ID_RACE_MAP = {0: 'white', 1: 'black', 2: 'asian', 3: 'indian', 4: 'others'}\n",
    "RACE_ID_MAP = dict((r, i) for i, r in ID_RACE_MAP.items())\n",
    "\n",
    "ID_GENDER_MAP, GENDER_ID_MAP, ID_RACE_MAP, RACE_ID_MAP"
   ]
  },
  {
   "cell_type": "code",
   "execution_count": null,
   "metadata": {
    "_uuid": "f82c1685a37d4e77022ff870cde57ea82f52c1a0"
   },
   "outputs": [],
   "source": [
    "def parse_filepath(filepath):\n",
    "    try:\n",
    "        path, filename = os.path.split(filepath)\n",
    "        filename, ext = os.path.splitext(filename)\n",
    "        age, gender, race, _ = filename.split(\"_\")\n",
    "        return int(age), ID_GENDER_MAP[int(gender)], ID_RACE_MAP[int(race)]\n",
    "    except Exception as e:\n",
    "        print(filepath)\n",
    "        return None, None, None"
   ]
  },
  {
   "cell_type": "code",
   "execution_count": 39,
   "metadata": {
    "_uuid": "350a2ac4feb3fd7ed81fa6e1d2066f0fdb1d2009"
   },
   "outputs": [],
   "source": [
    "# create a pandas data frame of images, age, gender and race\n",
    "files = glob.glob(os.path.join(DATA_DIR, \"*.jpg\"))"
   ]
  },
  {
   "cell_type": "code",
   "execution_count": 40,
   "metadata": {
    "_uuid": "59892f1296870fca397e6aaa1888e551d739901c"
   },
   "outputs": [
    {
     "name": "stdout",
     "output_type": "stream",
     "text": [
      "C:/Users/N9519661/Desktop/UTKFace\\39_1_20170116174525125.jpg.chip.jpg\n",
      "C:/Users/N9519661/Desktop/UTKFace\\61_1_20170109142408075.jpg.chip.jpg\n",
      "C:/Users/N9519661/Desktop/UTKFace\\61_1_20170109150557335.jpg.chip.jpg\n"
     ]
    }
   ],
   "source": [
    "attributes = list(map(parse_filepath, files))"
   ]
  },
  {
   "cell_type": "code",
   "execution_count": 41,
   "metadata": {
    "_uuid": "527d33d9c883d6e45f1576152660ec2feb9be7cb"
   },
   "outputs": [
    {
     "data": {
      "text/html": [
       "<div>\n",
       "<style scoped>\n",
       "    .dataframe tbody tr th:only-of-type {\n",
       "        vertical-align: middle;\n",
       "    }\n",
       "\n",
       "    .dataframe tbody tr th {\n",
       "        vertical-align: top;\n",
       "    }\n",
       "\n",
       "    .dataframe thead th {\n",
       "        text-align: right;\n",
       "    }\n",
       "</style>\n",
       "<table border=\"1\" class=\"dataframe\">\n",
       "  <thead>\n",
       "    <tr style=\"text-align: right;\">\n",
       "      <th></th>\n",
       "      <th>age</th>\n",
       "      <th>gender</th>\n",
       "      <th>race</th>\n",
       "      <th>file</th>\n",
       "    </tr>\n",
       "  </thead>\n",
       "  <tbody>\n",
       "    <tr>\n",
       "      <td>0</td>\n",
       "      <td>100.0</td>\n",
       "      <td>male</td>\n",
       "      <td>white</td>\n",
       "      <td>C:/Users/N9519661/Desktop/UTKFace\\100_0_0_2017...</td>\n",
       "    </tr>\n",
       "    <tr>\n",
       "      <td>1</td>\n",
       "      <td>100.0</td>\n",
       "      <td>male</td>\n",
       "      <td>white</td>\n",
       "      <td>C:/Users/N9519661/Desktop/UTKFace\\100_0_0_2017...</td>\n",
       "    </tr>\n",
       "    <tr>\n",
       "      <td>2</td>\n",
       "      <td>100.0</td>\n",
       "      <td>female</td>\n",
       "      <td>white</td>\n",
       "      <td>C:/Users/N9519661/Desktop/UTKFace\\100_1_0_2017...</td>\n",
       "    </tr>\n",
       "    <tr>\n",
       "      <td>3</td>\n",
       "      <td>100.0</td>\n",
       "      <td>female</td>\n",
       "      <td>white</td>\n",
       "      <td>C:/Users/N9519661/Desktop/UTKFace\\100_1_0_2017...</td>\n",
       "    </tr>\n",
       "    <tr>\n",
       "      <td>4</td>\n",
       "      <td>100.0</td>\n",
       "      <td>female</td>\n",
       "      <td>white</td>\n",
       "      <td>C:/Users/N9519661/Desktop/UTKFace\\100_1_0_2017...</td>\n",
       "    </tr>\n",
       "  </tbody>\n",
       "</table>\n",
       "</div>"
      ],
      "text/plain": [
       "     age  gender   race                                               file\n",
       "0  100.0    male  white  C:/Users/N9519661/Desktop/UTKFace\\100_0_0_2017...\n",
       "1  100.0    male  white  C:/Users/N9519661/Desktop/UTKFace\\100_0_0_2017...\n",
       "2  100.0  female  white  C:/Users/N9519661/Desktop/UTKFace\\100_1_0_2017...\n",
       "3  100.0  female  white  C:/Users/N9519661/Desktop/UTKFace\\100_1_0_2017...\n",
       "4  100.0  female  white  C:/Users/N9519661/Desktop/UTKFace\\100_1_0_2017..."
      ]
     },
     "execution_count": 41,
     "metadata": {},
     "output_type": "execute_result"
    }
   ],
   "source": [
    "df = pd.DataFrame(attributes)\n",
    "df['file'] = files\n",
    "df.columns = ['Age', 'Gender', 'Race', 'File Name']\n",
    "df = df.dropna()\n",
    "df.head()"
   ]
  },
  {
   "cell_type": "markdown",
   "metadata": {
    "_uuid": "d18e6ecec2b0c063772349e57bb0769b4041868d"
   },
   "source": [
    "# Exploratory Data Analysis"
   ]
  },
  {
   "cell_type": "code",
   "execution_count": 42,
   "metadata": {
    "_uuid": "6302cb5074f68d4c397d2b133d2d7b4b4386a25b"
   },
   "outputs": [
    {
     "data": {
      "text/html": [
       "<div>\n",
       "<style scoped>\n",
       "    .dataframe tbody tr th:only-of-type {\n",
       "        vertical-align: middle;\n",
       "    }\n",
       "\n",
       "    .dataframe tbody tr th {\n",
       "        vertical-align: top;\n",
       "    }\n",
       "\n",
       "    .dataframe thead th {\n",
       "        text-align: right;\n",
       "    }\n",
       "</style>\n",
       "<table border=\"1\" class=\"dataframe\">\n",
       "  <thead>\n",
       "    <tr style=\"text-align: right;\">\n",
       "      <th></th>\n",
       "      <th>age</th>\n",
       "    </tr>\n",
       "  </thead>\n",
       "  <tbody>\n",
       "    <tr>\n",
       "      <td>count</td>\n",
       "      <td>23705.000000</td>\n",
       "    </tr>\n",
       "    <tr>\n",
       "      <td>mean</td>\n",
       "      <td>33.300907</td>\n",
       "    </tr>\n",
       "    <tr>\n",
       "      <td>std</td>\n",
       "      <td>19.885708</td>\n",
       "    </tr>\n",
       "    <tr>\n",
       "      <td>min</td>\n",
       "      <td>1.000000</td>\n",
       "    </tr>\n",
       "    <tr>\n",
       "      <td>25%</td>\n",
       "      <td>23.000000</td>\n",
       "    </tr>\n",
       "    <tr>\n",
       "      <td>50%</td>\n",
       "      <td>29.000000</td>\n",
       "    </tr>\n",
       "    <tr>\n",
       "      <td>75%</td>\n",
       "      <td>45.000000</td>\n",
       "    </tr>\n",
       "    <tr>\n",
       "      <td>max</td>\n",
       "      <td>116.000000</td>\n",
       "    </tr>\n",
       "  </tbody>\n",
       "</table>\n",
       "</div>"
      ],
      "text/plain": [
       "                age\n",
       "count  23705.000000\n",
       "mean      33.300907\n",
       "std       19.885708\n",
       "min        1.000000\n",
       "25%       23.000000\n",
       "50%       29.000000\n",
       "75%       45.000000\n",
       "max      116.000000"
      ]
     },
     "execution_count": 42,
     "metadata": {},
     "output_type": "execute_result"
    }
   ],
   "source": [
    "df.describe()"
   ]
  },
  {
   "cell_type": "markdown",
   "metadata": {
    "_uuid": "ac2f3eca61465d5f94e350af87dca999418953bb"
   },
   "source": [
    "# Data preparation for the Training"
   ]
  },
  {
   "cell_type": "code",
   "execution_count": 49,
   "metadata": {
    "_uuid": "25b28ba3c0a314feac7346129d50c1a7dfda6bcf"
   },
   "outputs": [
    {
     "data": {
      "text/plain": [
       "(9079, 3891, 5559, 64.0)"
      ]
     },
     "execution_count": 49,
     "metadata": {},
     "output_type": "execute_result"
    }
   ],
   "source": [
    "p = np.random.permutation(len(df))\n",
    "\n",
    "train_up_to = int(len(df) * Train_Test_Split)\n",
    "train_idx = p[:train_up_to]\n",
    "test_idx = p[train_up_to:]\n",
    "\n",
    "# split training index into training and validation set\n",
    "train_up_to = int(train_up_to * 0.7)\n",
    "train_idx, valid_idx = train_idx[:train_up_to], train_idx[train_up_to:]\n",
    "\n",
    "df['gender_id'] = df['gender'].map(lambda gender: GENDER_ID_MAP[gender])\n",
    "df['race_id'] = df['race'].map(lambda race: RACE_ID_MAP[race])\n",
    "\n",
    "max_age = df['age'].max()\n",
    "len(train_idx), len(valid_idx), len(test_idx), max_age"
   ]
  },
  {
   "cell_type": "code",
   "execution_count": 50,
   "metadata": {
    "_uuid": "653d7b0737ffcaf69140e6de74e111e165ae808a"
   },
   "outputs": [],
   "source": [
    "from keras.utils import to_categorical\n",
    "from PIL import Image\n",
    "\n",
    "def get_data_generator(df, indices, for_training, batch_size=16):\n",
    "    images, ages, races, genders = [], [], [], []\n",
    "    while True:\n",
    "        for i in indices:\n",
    "            r = df.iloc[i]\n",
    "            file, age, race, gender = r['file'], r['age'], r['race_id'], r['gender_id']\n",
    "            im = Image.open(file)\n",
    "            im = im.resize((IM_WIDTH, IM_HEIGHT))\n",
    "            im = np.array(im) / 255.0\n",
    "            images.append(im)\n",
    "            ages.append(age / max_age)\n",
    "            races.append(to_categorical(race, len(RACE_ID_MAP)))\n",
    "            genders.append(to_categorical(gender, 2))\n",
    "            if len(images) >= batch_size:\n",
    "                yield np.array(images), [np.array(ages), np.array(races), np.array(genders)]\n",
    "                images, ages, races, genders = [], [], [], []\n",
    "        if not for_training:\n",
    "            break"
   ]
  },
  {
   "cell_type": "markdown",
   "metadata": {
    "_uuid": "0e067d94f007bf8acae0e2675f1b6f243cd7eac7"
   },
   "source": [
    "# Training the Model to Determing the Gender and Race"
   ]
  },
  {
   "cell_type": "code",
   "execution_count": 51,
   "metadata": {
    "_uuid": "ab00d8ecdf293d999eb0feeb1accb82d936937ff"
   },
   "outputs": [],
   "source": [
    "from keras.layers import Input, Dense, BatchNormalization, Conv2D, MaxPool2D, GlobalMaxPool2D, Dropout\n",
    "from keras.optimizers import SGD\n",
    "from keras.models import Model\n",
    "\n",
    "def conv_block(inp, filters=32, bn=True, pool=True):\n",
    "    x = Conv2D(filters=filters, kernel_size=3, activation='relu')(inp)\n",
    "    if bn:\n",
    "        x = BatchNormalization()(x)\n",
    "    if pool:\n",
    "        x = MaxPool2D()(x)\n",
    "    return x\n",
    "\n",
    "input_layer = Input(shape=(IM_HEIGHT, IM_WIDTH, 3))\n",
    "x = conv_block(input_layer, filters=32, bn=False, pool=False)\n",
    "x = conv_block(x, filters=32*2)\n",
    "x = conv_block(x, filters=32*3)\n",
    "x = conv_block(x, filters=32*4)\n",
    "x = conv_block(x, filters=32*5)\n",
    "x = conv_block(x, filters=32*6)\n",
    "bottleneck = GlobalMaxPool2D()(x)\n",
    "\n",
    "# for age calculation\n",
    "x = Dense(units=128, activation='relu')(bottleneck)\n",
    "age_output = Dense(units=1, activation='sigmoid', name='age_output')(x)\n",
    "\n",
    "# for race prediction\n",
    "x = Dense(units=128, activation='relu')(bottleneck)\n",
    "race_output = Dense(units=len(RACE_ID_MAP), activation='softmax', name='race_output')(x)\n",
    "\n",
    "# for gender prediction\n",
    "x = Dense(units=128, activation='relu')(bottleneck)\n",
    "gender_output = Dense(units=len(GENDER_ID_MAP), activation='softmax', name='gender_output')(x)\n",
    "\n",
    "model = Model(inputs=input_layer, outputs=[age_output, race_output, gender_output])\n",
    "model.compile(optimizer='rmsprop', loss={'age_output': 'mse', 'race_output': 'categorical_crossentropy', 'gender_output': 'categorical_crossentropy'},loss_weights={'age_output': 2., 'race_output': 1.5, 'gender_output': 1.},metrics={'age_output': 'mae', 'race_output': 'accuracy', 'gender_output': 'accuracy'})\n"
   ]
  },
  {
   "cell_type": "code",
   "execution_count": 54,
   "metadata": {
    "_uuid": "e623d31c68be2b4f61c3f72749b23e1c694da729",
    "scrolled": true
   },
   "outputs": [
    {
     "name": "stdout",
     "output_type": "stream",
     "text": [
      "Epoch 1/1\n",
      "141/141 [==============================] - 1416s 10s/step - loss: 2.0448 - age_output_loss: 0.0466 - race_output_loss: 1.0370 - gender_output_loss: 0.3961 - age_output_mae: 0.1733 - race_output_accuracy: 0.6136 - gender_output_accuracy: 0.8238 - val_loss: 2.8776 - val_age_output_loss: 0.0380 - val_race_output_loss: 1.3679 - val_gender_output_loss: 0.7858 - val_age_output_mae: 0.1606 - val_race_output_accuracy: 0.4414 - val_gender_output_accuracy: 0.5750\n"
     ]
    }
   ],
   "source": [
    "from keras.callbacks import ModelCheckpoint\n",
    "\n",
    "batch_size = 64\n",
    "valid_batch_size = 64\n",
    "train_gen = get_data_generator(df, train_idx, for_training=True, batch_size=batch_size)\n",
    "valid_gen = get_data_generator(df, valid_idx, for_training=True, batch_size=valid_batch_size)\n",
    "\n",
    "callbacks = [\n",
    "    ModelCheckpoint(\"./model_checkpoint\", monitor='val_loss')\n",
    "]\n",
    "\n",
    "history = model.fit_generator(train_gen,steps_per_epoch=len(train_idx)//batch_size,epochs=1,callbacks=callbacks,alidation_data=valid_gen,validation_steps=len(valid_idx)//valid_batch_size)\n",
    "                    \n"
   ]
  },
  {
   "cell_type": "code",
   "execution_count": 61,
   "metadata": {
    "_uuid": "5f764bc8c13608a9777e4dc63e00275d243570c2"
   },
   "outputs": [
    {
     "data": {
      "image/png": "[encoded data removed]",
      "text/plain": [
       "<Figure size 1440x360 with 4 Axes>"
      ]
     },
     "metadata": {
      "needs_background": "light"
     },
     "output_type": "display_data"
    }
   ],
   "source": [
    "def  plot_train_history(history):\n",
    "    fig, axes = plt.subplots(1, 4, figsize=(20, 5))\n",
    "    axes[0].plot(history.history['race_output_accuracy'], label='Race Train accuracy')\n",
    "    axes[0].plot(history.history['val_race_output_accuracy'], label='Race Val accuracy')\n",
    "    axes[0].set_xlabel('Epochs')\n",
    "    axes[0].legend()\n",
    "    \n",
    "    axes[1].plot(history.history['gender_output_accuracy'], label='Gender Train accuracy')\n",
    "    axes[1].plot(history.history['val_gender_output_accuracy'], label='Gener Val accuracy')\n",
    "    axes[1].set_xlabel('Epochs')\n",
    "    axes[1].legend()\n",
    "\n",
    "  \n",
    "    axes[3].plot(history.history['loss'], label='Training loss')\n",
    "    axes[3].plot(history.history['val_loss'], label='Validation loss')\n",
    "    axes[3].set_xlabel('Epochs')\n",
    "    axes[3].legend()\n",
    "\n",
    "plot_train_history(history)"
   ]
  },
  {
   "cell_type": "code",
   "execution_count": 73,
   "metadata": {},
   "outputs": [
    {
     "name": "stdout",
     "output_type": "stream",
     "text": [
      "Model: \"model_4\"\n",
      "__________________________________________________________________________________________________\n",
      "Layer (type)                    Output Shape         Param #     Connected to                     \n",
      "==================================================================================================\n",
      "input_4 (InputLayer)            (None, 198, 198, 3)  0                                            \n",
      "__________________________________________________________________________________________________\n",
      "conv2d_19 (Conv2D)              (None, 196, 196, 32) 896         input_4[0][0]                    \n",
      "__________________________________________________________________________________________________\n",
      "conv2d_20 (Conv2D)              (None, 194, 194, 64) 18496       conv2d_19[0][0]                  \n",
      "__________________________________________________________________________________________________\n",
      "batch_normalization_16 (BatchNo (None, 194, 194, 64) 256         conv2d_20[0][0]                  \n",
      "__________________________________________________________________________________________________\n",
      "max_pooling2d_16 (MaxPooling2D) (None, 97, 97, 64)   0           batch_normalization_16[0][0]     \n",
      "__________________________________________________________________________________________________\n",
      "conv2d_21 (Conv2D)              (None, 95, 95, 96)   55392       max_pooling2d_16[0][0]           \n",
      "__________________________________________________________________________________________________\n",
      "batch_normalization_17 (BatchNo (None, 95, 95, 96)   384         conv2d_21[0][0]                  \n",
      "__________________________________________________________________________________________________\n",
      "max_pooling2d_17 (MaxPooling2D) (None, 47, 47, 96)   0           batch_normalization_17[0][0]     \n",
      "__________________________________________________________________________________________________\n",
      "conv2d_22 (Conv2D)              (None, 45, 45, 128)  110720      max_pooling2d_17[0][0]           \n",
      "__________________________________________________________________________________________________\n",
      "batch_normalization_18 (BatchNo (None, 45, 45, 128)  512         conv2d_22[0][0]                  \n",
      "__________________________________________________________________________________________________\n",
      "max_pooling2d_18 (MaxPooling2D) (None, 22, 22, 128)  0           batch_normalization_18[0][0]     \n",
      "__________________________________________________________________________________________________\n",
      "conv2d_23 (Conv2D)              (None, 20, 20, 160)  184480      max_pooling2d_18[0][0]           \n",
      "__________________________________________________________________________________________________\n",
      "batch_normalization_19 (BatchNo (None, 20, 20, 160)  640         conv2d_23[0][0]                  \n",
      "__________________________________________________________________________________________________\n",
      "max_pooling2d_19 (MaxPooling2D) (None, 10, 10, 160)  0           batch_normalization_19[0][0]     \n",
      "__________________________________________________________________________________________________\n",
      "conv2d_24 (Conv2D)              (None, 8, 8, 192)    276672      max_pooling2d_19[0][0]           \n",
      "__________________________________________________________________________________________________\n",
      "batch_normalization_20 (BatchNo (None, 8, 8, 192)    768         conv2d_24[0][0]                  \n",
      "__________________________________________________________________________________________________\n",
      "max_pooling2d_20 (MaxPooling2D) (None, 4, 4, 192)    0           batch_normalization_20[0][0]     \n",
      "__________________________________________________________________________________________________\n",
      "global_max_pooling2d_4 (GlobalM (None, 192)          0           max_pooling2d_20[0][0]           \n",
      "__________________________________________________________________________________________________\n",
      "dense_10 (Dense)                (None, 128)          24704       global_max_pooling2d_4[0][0]     \n",
      "__________________________________________________________________________________________________\n",
      "dense_11 (Dense)                (None, 128)          24704       global_max_pooling2d_4[0][0]     \n",
      "__________________________________________________________________________________________________\n",
      "dense_12 (Dense)                (None, 128)          24704       global_max_pooling2d_4[0][0]     \n",
      "__________________________________________________________________________________________________\n",
      "age_output (Dense)              (None, 1)            129         dense_10[0][0]                   \n",
      "__________________________________________________________________________________________________\n",
      "race_output (Dense)             (None, 5)            645         dense_11[0][0]                   \n",
      "__________________________________________________________________________________________________\n",
      "gender_output (Dense)           (None, 2)            258         dense_12[0][0]                   \n",
      "==================================================================================================\n",
      "Total params: 724,360\n",
      "Trainable params: 723,080\n",
      "Non-trainable params: 1,280\n",
      "__________________________________________________________________________________________________\n"
     ]
    }
   ],
   "source": [
    "model.summary()"
   ]
  },
  {
   "cell_type": "code",
   "execution_count": null,
   "metadata": {},
   "outputs": [],
   "source": []
  }
 ],
 "metadata": {
  "kernelspec": {
   "display_name": "Python 3",
   "language": "python",
   "name": "python3"
  },
  "language_info": {
   "codemirror_mode": {
    "name": "ipython",
    "version": 3
   },
   "file_extension": ".py",
   "mimetype": "text/x-python",
   "name": "python",
   "nbconvert_exporter": "python",
   "pygments_lexer": "ipython3",
   "version": "3.7.4"
  }
 },
 "nbformat": 4,
 "nbformat_minor": 1
}
